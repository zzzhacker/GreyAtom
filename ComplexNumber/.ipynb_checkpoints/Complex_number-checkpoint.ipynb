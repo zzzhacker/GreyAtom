{
 "cells": [
  {
   "cell_type": "markdown",
   "metadata": {},
   "source": [
    "## Task: Making Complex_Numbers Package:\n",
    "\n",
    "\n",
    "Define a class called complex_number which accepts 2 parameters:\n",
    "\n",
    "* x: int64, float64, represents real component of the complex number\n",
    "* y: int64, float64, represents imaginary component of the complex number"
   ]
  },
  {
   "cell_type": "code",
   "execution_count": 38,
   "metadata": {
    "collapsed": false
   },
   "outputs": [],
   "source": [
    "class Complex(object):\n",
    "    try: \n",
    "        def __init__(self, real, imag=0.0):\n",
    "            if((type(real)==int or type(real)==float)and(type(imag)==int or type(imag)==float)) :\n",
    "                self.r = real\n",
    "                self.i = imag\n",
    "                self.math = __import__('math')\n",
    "                self.sys = __import__('sys')\n",
    "            else :\n",
    "                print('use the float or int real and imaginary part')\n",
    "    except:\n",
    "        print('Error in intiation')\n",
    "\n",
    "    def __add__(self, other):\n",
    "        try:\n",
    "            return Complex(self.r + other.r,\n",
    "                           self.i + other.i)\n",
    "        except EXception as e:\n",
    "            print('Error in add \\n',e)\n",
    "\n",
    "    def __sub__(self, other):\n",
    "        try:\n",
    "            return Complex(self.r - other.r,\n",
    "                       self.i - other.i)\n",
    "        except EXception as e:\n",
    "                print('Error in sub \\n',e)\n",
    "\n",
    "    def __mul__(self, other):\n",
    "        try:\n",
    "            return Complex(self.r*other.r - self.i*other.i,\n",
    "                       self.i*other.r + self.r*other.i)\n",
    "        except Exception as e :\n",
    "                print('Error in mul \\n', e)\n",
    "\n",
    "    def __truediv__(self, other):\n",
    "        try:\n",
    "            sr, si, orr, oi = self.r, self.i, other.r, other.i \n",
    "            r = float(orr**2 + oi**2)\n",
    "            return Complex((sr*orr+si*oi)/r, (si*orr-sr*oi)/r)\n",
    "        except Exception as e:\n",
    "            print('Error in division \\n', e)\n",
    "    def __abs__(self):\n",
    "        try:\n",
    "            return self.math.sqrt(self.r**2 + self.i**2)\n",
    "        except Exception as e :\n",
    "            print('Error in abs \\n', e)\n",
    "    \n",
    "    def __repr__(self) :\n",
    "        try:\n",
    "            return '{0:.2f}{1:+.2f}i'.format(self.r,self.i)\n",
    "        except Exception as e :\n",
    "                print('Error in represnt \\n', e)\n",
    "        \n",
    "    def real(self):\n",
    "        return self.r\n",
    "        \n",
    "    def imag(self):\n",
    "        return self.i\n",
    "    \n",
    "    def argument(self):\n",
    "        try:\n",
    "            return (self.math.atan(self.i/self.r))\n",
    "        except Exception as e :\n",
    "                print('Error in argument \\n', e)\n",
    "        \n",
    "    def conjugate(self):\n",
    "        return complex(self.r, - self.i)  \n",
    "    "
   ]
  },
  {
   "cell_type": "code",
   "execution_count": 39,
   "metadata": {
    "collapsed": true
   },
   "outputs": [],
   "source": [
    "a=Complex(2,3)\n",
    "b=Complex(3.4,4.3)"
   ]
  },
  {
   "cell_type": "markdown",
   "metadata": {},
   "source": [
    "### Questions:\n",
    "Define the follwoing operations for the class:\n",
    "\n",
    "* representation in the form of x + yi when used with print command\n",
    "* '+'\n",
    "* '-'\n",
    "* '*'\n",
    "* '/'"
   ]
  },
  {
   "cell_type": "code",
   "execution_count": 40,
   "metadata": {
    "collapsed": false
   },
   "outputs": [
    {
     "name": "stdout",
     "output_type": "stream",
     "text": [
      "a : 2.00+3.00i\n",
      "a+b : 5.40+7.30i\n",
      "a-b : -1.40-1.30i\n",
      "a*b : -6.10+18.80i\n",
      "a/b : 0.66+0.05i\n"
     ]
    }
   ],
   "source": [
    "print('a :',a)\n",
    "print('a+b :',a+b)\n",
    "print('a-b :',a-b)\n",
    "print('a*b :',a*b)\n",
    "print('a/b :',a/b)\n"
   ]
  },
  {
   "cell_type": "markdown",
   "metadata": {},
   "source": [
    "* abs()\n",
    "* real() [Returns real component of the complex number]\n",
    "* imag() [Returns complex component of the complex number]\n",
    "* argument() [Returns argument of the complex number]\n",
    "* conjugate() [Returns conjugate of the complex number]\n"
   ]
  },
  {
   "cell_type": "code",
   "execution_count": 41,
   "metadata": {
    "collapsed": false
   },
   "outputs": [
    {
     "name": "stdout",
     "output_type": "stream",
     "text": [
      "abs(b) : 5.481788029466298\n",
      "a.real : 2\n",
      "b.imag : 4.3\n",
      "a.argument() : 0.982793723247329\n",
      "b.conjugate : (3.4-4.3j)\n"
     ]
    }
   ],
   "source": [
    "print('abs(b) :',abs(b))\n",
    "print('a.real :',a.real())\n",
    "print('b.imag :',b.imag())\n",
    "print('a.argument() :',a.argument())\n",
    "print('b.conjugate :',b.conjugate())"
   ]
  },
  {
   "cell_type": "markdown",
   "metadata": {},
   "source": [
    "#### Error handling"
   ]
  },
  {
   "cell_type": "code",
   "execution_count": 43,
   "metadata": {
    "collapsed": false
   },
   "outputs": [
    {
     "name": "stdout",
     "output_type": "stream",
     "text": [
      "Error in division \n",
      " float division by zero\n"
     ]
    }
   ],
   "source": [
    "c=Complex(0,0)\n",
    "a/c"
   ]
  },
  {
   "cell_type": "code",
   "execution_count": 44,
   "metadata": {
    "collapsed": false
   },
   "outputs": [
    {
     "name": "stdout",
     "output_type": "stream",
     "text": [
      "[NbConvertApp] Converting notebook Untitled.ipynb to python\n",
      "[NbConvertApp] Writing 3209 bytes to Untitled.py\n"
     ]
    }
   ],
   "source": [
    "!jupyter nbconvert --to python Untitled.ipynb"
   ]
  },
  {
   "cell_type": "code",
   "execution_count": null,
   "metadata": {
    "collapsed": true
   },
   "outputs": [],
   "source": []
  }
 ],
 "metadata": {
  "kernelspec": {
   "display_name": "Python 3",
   "language": "python",
   "name": "python3"
  },
  "language_info": {
   "codemirror_mode": {
    "name": "ipython",
    "version": 3
   },
   "file_extension": ".py",
   "mimetype": "text/x-python",
   "name": "python",
   "nbconvert_exporter": "python",
   "pygments_lexer": "ipython3",
   "version": "3.6.3"
  }
 },
 "nbformat": 4,
 "nbformat_minor": 2
}
