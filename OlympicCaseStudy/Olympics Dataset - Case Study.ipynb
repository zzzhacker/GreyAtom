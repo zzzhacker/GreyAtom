{
 "cells": [
  {
   "cell_type": "code",
   "execution_count": 1,
   "metadata": {
    "collapsed": true
   },
   "outputs": [],
   "source": [
    "import pandas as pd"
   ]
  },
  {
   "cell_type": "markdown",
   "metadata": {},
   "source": [
    "### Question - 1:\n",
    "Create a dataframe with following data cleanup to make this file redable.\n",
    "\n",
    "* Create a function load_data to read CSV file and convert CSV data to dataframe.\n",
    "* Skip first row\n",
    "* Rename column containing 01, 02 and 03 to Gold, Silver and Bronze\n",
    "* Split country name and country code and add country name as data frame index\n",
    "* Remove extra unnecessary characters from country name.\n",
    "* Drop the column Totals\n",
    "* Return dataframe."
   ]
  },
  {
   "cell_type": "code",
   "execution_count": 2,
   "metadata": {
    "collapsed": false
   },
   "outputs": [],
   "source": [
    "def load_data():\n",
    "    \"\"\"\n",
    "        Enter your code here\n",
    "    \"\"\"\n",
    "    df=pd.read_csv('olympics.csv',skiprows=[0])\n",
    "    df=df.rename(columns={'01 !' : 'Summer_Gold', '02 !' : 'Summer_Silver', '03 !' : 'Summer_Bronze',\n",
    "                          '01 !.1' : 'Winter_Gold', '02 !.1' : 'Winter_Silver', '03 !.1' : 'Winter_Bronze',\n",
    "                          '01 !.2' : 'Combined_Gold', '02 !.2' : 'Combined_Silver', '03 !.2' : 'Combined_Bronze'})\n",
    "    df['country_name']=df['Unnamed: 0'].str.split('\\(|\\)',expand=True).astype(str)[0]\n",
    "    df['country_name']=df['country_name'].str.strip()\n",
    "    df['country_code']=df['Unnamed: 0'].str.split('\\(|\\)',expand=True).astype(str)[1]\n",
    "    df=df.drop(['Unnamed: 0','Total'],axis=1)\n",
    "    df=df.set_index('country_name')\n",
    "    return df[:-1]"
   ]
  },
  {
   "cell_type": "code",
   "execution_count": 3,
   "metadata": {
    "collapsed": false
   },
   "outputs": [],
   "source": [
    "data=load_data()"
   ]
  },
  {
   "cell_type": "code",
   "execution_count": 4,
   "metadata": {
    "collapsed": false
   },
   "outputs": [
    {
     "data": {
      "text/html": [
       "<div>\n",
       "<style>\n",
       "    .dataframe thead tr:only-child th {\n",
       "        text-align: right;\n",
       "    }\n",
       "\n",
       "    .dataframe thead th {\n",
       "        text-align: left;\n",
       "    }\n",
       "\n",
       "    .dataframe tbody tr th {\n",
       "        vertical-align: top;\n",
       "    }\n",
       "</style>\n",
       "<table border=\"1\" class=\"dataframe\">\n",
       "  <thead>\n",
       "    <tr style=\"text-align: right;\">\n",
       "      <th></th>\n",
       "      <th># Summer</th>\n",
       "      <th>Summer_Gold</th>\n",
       "      <th>Summer_Silver</th>\n",
       "      <th>Summer_Bronze</th>\n",
       "      <th># Winter</th>\n",
       "      <th>Winter_Gold</th>\n",
       "      <th>Winter_Silver</th>\n",
       "      <th>Winter_Bronze</th>\n",
       "      <th>Total.1</th>\n",
       "      <th># Games</th>\n",
       "      <th>Combined_Gold</th>\n",
       "      <th>Combined_Silver</th>\n",
       "      <th>Combined_Bronze</th>\n",
       "      <th>Combined total</th>\n",
       "      <th>country_code</th>\n",
       "    </tr>\n",
       "    <tr>\n",
       "      <th>country_name</th>\n",
       "      <th></th>\n",
       "      <th></th>\n",
       "      <th></th>\n",
       "      <th></th>\n",
       "      <th></th>\n",
       "      <th></th>\n",
       "      <th></th>\n",
       "      <th></th>\n",
       "      <th></th>\n",
       "      <th></th>\n",
       "      <th></th>\n",
       "      <th></th>\n",
       "      <th></th>\n",
       "      <th></th>\n",
       "      <th></th>\n",
       "    </tr>\n",
       "  </thead>\n",
       "  <tbody>\n",
       "    <tr>\n",
       "      <th>Yugoslavia</th>\n",
       "      <td>16</td>\n",
       "      <td>26</td>\n",
       "      <td>29</td>\n",
       "      <td>28</td>\n",
       "      <td>14</td>\n",
       "      <td>0</td>\n",
       "      <td>3</td>\n",
       "      <td>1</td>\n",
       "      <td>4</td>\n",
       "      <td>30</td>\n",
       "      <td>26</td>\n",
       "      <td>32</td>\n",
       "      <td>29</td>\n",
       "      <td>87</td>\n",
       "      <td>YUG</td>\n",
       "    </tr>\n",
       "    <tr>\n",
       "      <th>Independent Olympic Participants</th>\n",
       "      <td>1</td>\n",
       "      <td>0</td>\n",
       "      <td>1</td>\n",
       "      <td>2</td>\n",
       "      <td>0</td>\n",
       "      <td>0</td>\n",
       "      <td>0</td>\n",
       "      <td>0</td>\n",
       "      <td>0</td>\n",
       "      <td>1</td>\n",
       "      <td>0</td>\n",
       "      <td>1</td>\n",
       "      <td>2</td>\n",
       "      <td>3</td>\n",
       "      <td>IOP</td>\n",
       "    </tr>\n",
       "    <tr>\n",
       "      <th>Zambia</th>\n",
       "      <td>12</td>\n",
       "      <td>0</td>\n",
       "      <td>1</td>\n",
       "      <td>1</td>\n",
       "      <td>0</td>\n",
       "      <td>0</td>\n",
       "      <td>0</td>\n",
       "      <td>0</td>\n",
       "      <td>0</td>\n",
       "      <td>12</td>\n",
       "      <td>0</td>\n",
       "      <td>1</td>\n",
       "      <td>1</td>\n",
       "      <td>2</td>\n",
       "      <td>ZAM</td>\n",
       "    </tr>\n",
       "    <tr>\n",
       "      <th>Zimbabwe</th>\n",
       "      <td>12</td>\n",
       "      <td>3</td>\n",
       "      <td>4</td>\n",
       "      <td>1</td>\n",
       "      <td>1</td>\n",
       "      <td>0</td>\n",
       "      <td>0</td>\n",
       "      <td>0</td>\n",
       "      <td>0</td>\n",
       "      <td>13</td>\n",
       "      <td>3</td>\n",
       "      <td>4</td>\n",
       "      <td>1</td>\n",
       "      <td>8</td>\n",
       "      <td>ZIM</td>\n",
       "    </tr>\n",
       "    <tr>\n",
       "      <th>Mixed team</th>\n",
       "      <td>3</td>\n",
       "      <td>8</td>\n",
       "      <td>5</td>\n",
       "      <td>4</td>\n",
       "      <td>0</td>\n",
       "      <td>0</td>\n",
       "      <td>0</td>\n",
       "      <td>0</td>\n",
       "      <td>0</td>\n",
       "      <td>3</td>\n",
       "      <td>8</td>\n",
       "      <td>5</td>\n",
       "      <td>4</td>\n",
       "      <td>17</td>\n",
       "      <td>ZZX</td>\n",
       "    </tr>\n",
       "  </tbody>\n",
       "</table>\n",
       "</div>"
      ],
      "text/plain": [
       "                                  # Summer  Summer_Gold  Summer_Silver  \\\n",
       "country_name                                                             \n",
       "Yugoslavia                              16           26             29   \n",
       "Independent Olympic Participants         1            0              1   \n",
       "Zambia                                  12            0              1   \n",
       "Zimbabwe                                12            3              4   \n",
       "Mixed team                               3            8              5   \n",
       "\n",
       "                                  Summer_Bronze  # Winter  Winter_Gold  \\\n",
       "country_name                                                             \n",
       "Yugoslavia                                   28        14            0   \n",
       "Independent Olympic Participants              2         0            0   \n",
       "Zambia                                        1         0            0   \n",
       "Zimbabwe                                      1         1            0   \n",
       "Mixed team                                    4         0            0   \n",
       "\n",
       "                                  Winter_Silver  Winter_Bronze  Total.1  \\\n",
       "country_name                                                              \n",
       "Yugoslavia                                    3              1        4   \n",
       "Independent Olympic Participants              0              0        0   \n",
       "Zambia                                        0              0        0   \n",
       "Zimbabwe                                      0              0        0   \n",
       "Mixed team                                    0              0        0   \n",
       "\n",
       "                                  # Games  Combined_Gold  Combined_Silver  \\\n",
       "country_name                                                                \n",
       "Yugoslavia                             30             26               32   \n",
       "Independent Olympic Participants        1              0                1   \n",
       "Zambia                                 12              0                1   \n",
       "Zimbabwe                               13              3                4   \n",
       "Mixed team                              3              8                5   \n",
       "\n",
       "                                  Combined_Bronze  Combined total country_code  \n",
       "country_name                                                                    \n",
       "Yugoslavia                                     29              87          YUG  \n",
       "Independent Olympic Participants                2               3          IOP  \n",
       "Zambia                                          1               2          ZAM  \n",
       "Zimbabwe                                        1               8          ZIM  \n",
       "Mixed team                                      4              17          ZZX  "
      ]
     },
     "execution_count": 4,
     "metadata": {},
     "output_type": "execute_result"
    }
   ],
   "source": [
    "data.tail()"
   ]
  },
  {
   "cell_type": "markdown",
   "metadata": {},
   "source": [
    "### Question - 2:\n",
    "Write a function to get first country details from dataframe we got from load_data function.\n",
    "\n",
    "* Create a function first_country.\n",
    "* Return results for first country.\n"
   ]
  },
  {
   "cell_type": "code",
   "execution_count": 5,
   "metadata": {
    "collapsed": false
   },
   "outputs": [],
   "source": [
    "def first_country(df):\n",
    "    \"\"\"\n",
    "        Enter your code here\n",
    "    \"\"\"\n",
    "    return df.index[0]\n"
   ]
  },
  {
   "cell_type": "code",
   "execution_count": 6,
   "metadata": {
    "collapsed": false
   },
   "outputs": [
    {
     "data": {
      "text/plain": [
       "'Afghanistan'"
      ]
     },
     "execution_count": 6,
     "metadata": {},
     "output_type": "execute_result"
    }
   ],
   "source": [
    "first_country(data)"
   ]
  },
  {
   "cell_type": "markdown",
   "metadata": {},
   "source": [
    "### Question - 3:\n",
    "Which country has won the most gold medals in summer games?\n",
    "\n",
    "* Create a function gold_medal to get name of country who won most gold medals.\n",
    "* Return country name.\n"
   ]
  },
  {
   "cell_type": "code",
   "execution_count": 7,
   "metadata": {
    "collapsed": true
   },
   "outputs": [],
   "source": [
    "def gold_medal(df):\n",
    "    \"\"\"\n",
    "        Enter your code here\n",
    "    \"\"\"\n",
    "    return df['Summer_Gold'].idxmax()"
   ]
  },
  {
   "cell_type": "code",
   "execution_count": 8,
   "metadata": {
    "collapsed": false
   },
   "outputs": [
    {
     "data": {
      "text/plain": [
       "'United States'"
      ]
     },
     "execution_count": 8,
     "metadata": {},
     "output_type": "execute_result"
    }
   ],
   "source": [
    "gold_medal(data)"
   ]
  },
  {
   "cell_type": "markdown",
   "metadata": {},
   "source": [
    "### Question - 4:\n",
    "Which country had the biggest difference between their summer and winter gold medal counts?\n",
    "\n",
    "* Create a function biggest_difference_in_gold_medal to get name of country who has biggest difference between their summer and winter gold medal counts.\n",
    "* Return country name"
   ]
  },
  {
   "cell_type": "code",
   "execution_count": 9,
   "metadata": {
    "collapsed": true
   },
   "outputs": [],
   "source": [
    "def biggest_difference_in_gold_medal(df):\n",
    "    \"\"\"\n",
    "        Enter your code here\n",
    "    \"\"\"\n",
    "    return (abs(df['Summer_Gold']-df['Winter_Gold'])).idxmax()"
   ]
  },
  {
   "cell_type": "code",
   "execution_count": 10,
   "metadata": {
    "collapsed": false
   },
   "outputs": [
    {
     "data": {
      "text/plain": [
       "'United States'"
      ]
     },
     "execution_count": 10,
     "metadata": {},
     "output_type": "execute_result"
    }
   ],
   "source": [
    "biggest_difference_in_gold_medal(data)"
   ]
  },
  {
   "cell_type": "markdown",
   "metadata": {},
   "source": [
    "### Question - 5:\n",
    "Write a function to update the dataframe to include a new column called \"Points\" for Games which is a weighted value where each gold medal counts for 3 points, silver medals for 2 points, and bronze medals for 1 point. The function should return only the column (a Series object) which you created.\n",
    "\n",
    "* Create a function get_points.\n",
    "* Return dataframe with points column and index."
   ]
  },
  {
   "cell_type": "code",
   "execution_count": 11,
   "metadata": {
    "collapsed": true
   },
   "outputs": [],
   "source": [
    "def get_points(df):\n",
    "    \"\"\"\n",
    "    Enter your code here\n",
    "    \"\"\"\n",
    "    df['Points']=df['Combined_Gold']*3+df['Combined_Silver']*2+df['Combined_Bronze']\n",
    "    return df['Points']\n"
   ]
  },
  {
   "cell_type": "code",
   "execution_count": 12,
   "metadata": {
    "collapsed": false,
    "scrolled": true
   },
   "outputs": [
    {
     "data": {
      "text/plain": [
       "country_name\n",
       "Afghanistan                            2\n",
       "Algeria                               27\n",
       "Argentina                            130\n",
       "Armenia                               16\n",
       "Australasia                           22\n",
       "Australia                            923\n",
       "Austria                              569\n",
       "Azerbaijan                            43\n",
       "Bahamas                               24\n",
       "Bahrain                                1\n",
       "Barbados                               1\n",
       "Belarus                              154\n",
       "Belgium                              276\n",
       "Bermuda                                1\n",
       "Bohemia                                5\n",
       "Botswana                               2\n",
       "Brazil                               184\n",
       "British West Indies                    2\n",
       "Bulgaria                             411\n",
       "Burundi                                3\n",
       "Cameroon                              12\n",
       "Canada                               846\n",
       "Chile                                 24\n",
       "China                               1120\n",
       "Colombia                              29\n",
       "Costa Rica                             7\n",
       "Ivory Coast                            2\n",
       "Croatia                               67\n",
       "Cuba                                 420\n",
       "Cyprus                                 2\n",
       "                                    ... \n",
       "Spain                                268\n",
       "Sri Lanka                              4\n",
       "Sudan                                  2\n",
       "Suriname                               4\n",
       "Sweden                              1217\n",
       "Switzerland                          630\n",
       "Syria                                  6\n",
       "Chinese Taipei                        32\n",
       "Tajikistan                             4\n",
       "Tanzania                               4\n",
       "Thailand                              44\n",
       "Togo                                   1\n",
       "Tonga                                  2\n",
       "Trinidad and Tobago                   27\n",
       "Tunisia                               19\n",
       "Turkey                               191\n",
       "Uganda                                14\n",
       "Ukraine                              220\n",
       "United Arab Emirates                   3\n",
       "United States                       5684\n",
       "Uruguay                               16\n",
       "Uzbekistan                            38\n",
       "Venezuela                             18\n",
       "Vietnam                                4\n",
       "Virgin Islands                         2\n",
       "Yugoslavia                           171\n",
       "Independent Olympic Participants       4\n",
       "Zambia                                 3\n",
       "Zimbabwe                              18\n",
       "Mixed team                            38\n",
       "Name: Points, Length: 146, dtype: int64"
      ]
     },
     "execution_count": 12,
     "metadata": {},
     "output_type": "execute_result"
    }
   ],
   "source": [
    "get_points(data)"
   ]
  },
  {
   "cell_type": "markdown",
   "metadata": {},
   "source": [
    "### Question - 6\n",
    "Write a function to perform k-means clustering for the given dataset.\n",
    "\n",
    "* Create a fucntion k_means()\n",
    "* Return Optimum value of k\n",
    "* Cluster centers"
   ]
  },
  {
   "cell_type": "code",
   "execution_count": 13,
   "metadata": {
    "collapsed": false
   },
   "outputs": [],
   "source": [
    "def k_means(df,start=3,end=10): \n",
    "    from sklearn.cluster import KMeans\n",
    "    from sklearn.preprocessing import scale\n",
    "    X=scale(df.drop(['country_code'],axis=1))\n",
    "    from sklearn.metrics import  silhouette_score\n",
    "    d={}\n",
    "    c=[]\n",
    "    for k in range(start,end):\n",
    "        clusterer = KMeans(n_clusters=k, random_state=4)\n",
    "        cluster_labels = clusterer.fit_predict(X)\n",
    "        silhouette_avg = silhouette_score(X, cluster_labels,sample_size=100,random_state=2)\n",
    "        d[k]= silhouette_avg\n",
    "        c.append(clusterer.cluster_centers_)\n",
    "    centers=c[max(d, key=d.get)-start]\n",
    "    k=max(d, key=d.get)\n",
    "    return k,centers"
   ]
  },
  {
   "cell_type": "code",
   "execution_count": 14,
   "metadata": {
    "collapsed": false
   },
   "outputs": [
    {
     "data": {
      "text/plain": [
       "(3, array([[-0.16093086, -0.24322545, -0.26477315, -0.28220011, -0.23295643,\n",
       "         -0.30738182, -0.30842223, -0.32355962, -0.31539716, -0.21702642,\n",
       "         -0.26710477, -0.28826433, -0.30531217, -0.28727407, -0.28067561],\n",
       "        [ 1.03507693,  1.17267689,  1.3674659 ,  1.53504493,  1.52678738,\n",
       "          1.90600922,  1.89015568,  2.0359875 ,  1.95761522,  1.41185578,\n",
       "          1.36099488,  1.54764085,  1.71452708,  1.53800677,  1.47825114],\n",
       "        [ 1.8068343 ,  9.78144805,  9.0118044 ,  8.20860566,  2.10329431,\n",
       "          4.72932562,  5.14682149,  4.44429678,  4.81836565,  2.14895072,\n",
       "          9.42439793,  8.75203489,  7.91315875,  8.79968467,  9.03728239]]))"
      ]
     },
     "execution_count": 14,
     "metadata": {},
     "output_type": "execute_result"
    }
   ],
   "source": [
    "k_means(data)"
   ]
  },
  {
   "cell_type": "markdown",
   "metadata": {},
   "source": [
    "Here I find best k with __silhouette_score__ but as well in datascience that find best k not a good choice just \n",
    "to consider silhouette_score not enough its better to analysis on __elbow method__ and __gap statistics__ also to find best possible k value"
   ]
  },
  {
   "cell_type": "code",
   "execution_count": 16,
   "metadata": {
    "collapsed": false
   },
   "outputs": [
    {
     "data": {
      "image/png": "[encoded data removed]",
      "text/plain": [
       "<matplotlib.figure.Figure at 0x7fec15c60f60>"
      ]
     },
     "metadata": {},
     "output_type": "display_data"
    }
   ],
   "source": [
    "from sklearn.cluster import KMeans\n",
    "from sklearn.preprocessing import scale\n",
    "from sklearn import metrics\n",
    "from scipy.spatial.distance import cdist\n",
    "import numpy as np\n",
    "import matplotlib.pyplot as plt\n",
    "distortions=[]\n",
    "X=scale(data.drop(['country_code'],axis=1))\n",
    "K = range(1,10)\n",
    "for k in K:\n",
    "    kmeanModel = KMeans(n_clusters=k).fit(X)\n",
    "    distortions.append(sum(np.min(cdist(X, kmeanModel.cluster_centers_, 'euclidean'), axis=1)) / X.shape[0])\n",
    " \n",
    "# Plot the elbow\n",
    "plt.plot(K, distortions, 'bx-')\n",
    "plt.xlabel('k')\n",
    "plt.ylabel('Distortion')\n",
    "plt.title('The Elbow Method showing the optimal k')\n",
    "plt.show()"
   ]
  },
  {
   "cell_type": "markdown",
   "metadata": {
    "collapsed": true
   },
   "source": [
    "#### From elbow method on cluter distance we get best k 4 so we have to analysis dta well and depend on 3-4 methods to decide best k value"
   ]
  },
  {
   "cell_type": "code",
   "execution_count": null,
   "metadata": {
    "collapsed": true
   },
   "outputs": [],
   "source": []
  }
 ],
 "metadata": {
  "kernelspec": {
   "display_name": "Python 3",
   "language": "python",
   "name": "python3"
  },
  "language_info": {
   "codemirror_mode": {
    "name": "ipython",
    "version": 3
   },
   "file_extension": ".py",
   "mimetype": "text/x-python",
   "name": "python",
   "nbconvert_exporter": "python",
   "pygments_lexer": "ipython3",
   "version": "3.6.3"
  }
 },
 "nbformat": 4,
 "nbformat_minor": 2
}
